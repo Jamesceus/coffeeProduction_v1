{
 "cells": [
  {
   "cell_type": "markdown",
   "id": "63d0a69d",
   "metadata": {},
   "source": [
    "# Explore Weather\n",
    "\n",
    "Create your own EDA below! Create as many code-blocks as you need.\n",
    "\n",
    "Once you've completed your EDA, complete the section titled **Reflections** where you will answer questions about your EDA."
   ]
  },
  {
   "cell_type": "code",
   "execution_count": 1,
   "id": "6655a736",
   "metadata": {},
   "outputs": [],
   "source": [
    "import pandas as pd \n",
    "import numpy as np\n",
    "\n",
    "import seaborn as sns\n",
    "import matplotlib.pyplot as plt"
   ]
  },
  {
   "cell_type": "code",
   "execution_count": 3,
   "id": "868ea7cd",
   "metadata": {},
   "outputs": [],
   "source": [
    "# import data\n",
    "weather1 = pd.read_csv(\"../data/weather/weather_data1.csv\")\n",
    "weather2 = pd.read_csv(\"../data/weather/weather_data2.csv\")"
   ]
  },
  {
   "cell_type": "code",
   "execution_count": 4,
   "id": "c57b5ccc",
   "metadata": {},
   "outputs": [],
   "source": [
    "# TODO: concatenate your data files together and save to a new csv file (\"../data/weather/weather_data.csv\")\n",
    "weather = pd.concat([weather1, weather2], ignore_index= True)\n",
    "weather.to_csv(\"../data/weather/weather_data.csv\", index=False)"
   ]
  },
  {
   "cell_type": "code",
   "execution_count": 5,
   "id": "0998e562",
   "metadata": {},
   "outputs": [
    {
     "name": "stdout",
     "output_type": "stream",
     "text": [
      "<class 'pandas.core.frame.DataFrame'>\n",
      "RangeIndex: 18 entries, 0 to 17\n",
      "Data columns (total 10 columns):\n",
      " #   Column       Non-Null Count  Dtype  \n",
      "---  ------       --------------  -----  \n",
      " 0   year         18 non-null     int64  \n",
      " 1   rain_max     18 non-null     float64\n",
      " 2   temp_avg     18 non-null     float64\n",
      " 3   temp_max     18 non-null     float64\n",
      " 4   temp_min     18 non-null     float64\n",
      " 5   hum_max      18 non-null     float64\n",
      " 6   hum_min      18 non-null     float64\n",
      " 7   wind_max     18 non-null     float64\n",
      " 8   wind_avg     18 non-null     float64\n",
      " 9   subdivision  18 non-null     object \n",
      "dtypes: float64(8), int64(1), object(1)\n",
      "memory usage: 1.5+ KB\n"
     ]
    }
   ],
   "source": [
    "weather.info()"
   ]
  },
  {
   "cell_type": "code",
   "execution_count": 6,
   "id": "a7c1799e",
   "metadata": {},
   "outputs": [
    {
     "data": {
      "text/html": [
       "<div>\n",
       "<style scoped>\n",
       "    .dataframe tbody tr th:only-of-type {\n",
       "        vertical-align: middle;\n",
       "    }\n",
       "\n",
       "    .dataframe tbody tr th {\n",
       "        vertical-align: top;\n",
       "    }\n",
       "\n",
       "    .dataframe thead th {\n",
       "        text-align: right;\n",
       "    }\n",
       "</style>\n",
       "<table border=\"1\" class=\"dataframe\">\n",
       "  <thead>\n",
       "    <tr style=\"text-align: right;\">\n",
       "      <th></th>\n",
       "      <th>year</th>\n",
       "      <th>rain_max</th>\n",
       "      <th>temp_avg</th>\n",
       "      <th>temp_max</th>\n",
       "      <th>temp_min</th>\n",
       "      <th>hum_max</th>\n",
       "      <th>hum_min</th>\n",
       "      <th>wind_max</th>\n",
       "      <th>wind_avg</th>\n",
       "      <th>subdivision</th>\n",
       "    </tr>\n",
       "  </thead>\n",
       "  <tbody>\n",
       "    <tr>\n",
       "      <th>0</th>\n",
       "      <td>2006</td>\n",
       "      <td>6.670968</td>\n",
       "      <td>21.803087</td>\n",
       "      <td>27.190323</td>\n",
       "      <td>18.654839</td>\n",
       "      <td>97.129032</td>\n",
       "      <td>57.806452</td>\n",
       "      <td>9.706452</td>\n",
       "      <td>2.075207</td>\n",
       "      <td>Minas Gerais</td>\n",
       "    </tr>\n",
       "    <tr>\n",
       "      <th>1</th>\n",
       "      <td>2007</td>\n",
       "      <td>1.866250</td>\n",
       "      <td>23.040999</td>\n",
       "      <td>27.649375</td>\n",
       "      <td>18.753125</td>\n",
       "      <td>87.837500</td>\n",
       "      <td>48.493750</td>\n",
       "      <td>8.749375</td>\n",
       "      <td>2.069605</td>\n",
       "      <td>Minas Gerais</td>\n",
       "    </tr>\n",
       "    <tr>\n",
       "      <th>2</th>\n",
       "      <td>2008</td>\n",
       "      <td>3.777049</td>\n",
       "      <td>20.682400</td>\n",
       "      <td>27.000000</td>\n",
       "      <td>16.216393</td>\n",
       "      <td>96.136612</td>\n",
       "      <td>51.415301</td>\n",
       "      <td>8.865027</td>\n",
       "      <td>1.584408</td>\n",
       "      <td>Minas Gerais</td>\n",
       "    </tr>\n",
       "    <tr>\n",
       "      <th>3</th>\n",
       "      <td>2009</td>\n",
       "      <td>3.380220</td>\n",
       "      <td>21.023802</td>\n",
       "      <td>27.769231</td>\n",
       "      <td>16.410440</td>\n",
       "      <td>96.054945</td>\n",
       "      <td>49.329670</td>\n",
       "      <td>9.114286</td>\n",
       "      <td>1.611746</td>\n",
       "      <td>Minas Gerais</td>\n",
       "    </tr>\n",
       "    <tr>\n",
       "      <th>4</th>\n",
       "      <td>2010</td>\n",
       "      <td>2.183516</td>\n",
       "      <td>21.444293</td>\n",
       "      <td>28.580769</td>\n",
       "      <td>16.156044</td>\n",
       "      <td>95.247253</td>\n",
       "      <td>44.648352</td>\n",
       "      <td>9.109341</td>\n",
       "      <td>1.455907</td>\n",
       "      <td>Minas Gerais</td>\n",
       "    </tr>\n",
       "  </tbody>\n",
       "</table>\n",
       "</div>"
      ],
      "text/plain": [
       "   year  rain_max   temp_avg   temp_max   temp_min    hum_max    hum_min  \\\n",
       "0  2006  6.670968  21.803087  27.190323  18.654839  97.129032  57.806452   \n",
       "1  2007  1.866250  23.040999  27.649375  18.753125  87.837500  48.493750   \n",
       "2  2008  3.777049  20.682400  27.000000  16.216393  96.136612  51.415301   \n",
       "3  2009  3.380220  21.023802  27.769231  16.410440  96.054945  49.329670   \n",
       "4  2010  2.183516  21.444293  28.580769  16.156044  95.247253  44.648352   \n",
       "\n",
       "   wind_max  wind_avg   subdivision  \n",
       "0  9.706452  2.075207  Minas Gerais  \n",
       "1  8.749375  2.069605  Minas Gerais  \n",
       "2  8.865027  1.584408  Minas Gerais  \n",
       "3  9.114286  1.611746  Minas Gerais  \n",
       "4  9.109341  1.455907  Minas Gerais  "
      ]
     },
     "execution_count": 6,
     "metadata": {},
     "output_type": "execute_result"
    }
   ],
   "source": [
    "# TODO: view first 5 rows of your data\n",
    "weather.head(5)"
   ]
  },
  {
   "cell_type": "code",
   "execution_count": 7,
   "id": "83e6ecbd",
   "metadata": {},
   "outputs": [
    {
     "data": {
      "text/html": [
       "<div>\n",
       "<style scoped>\n",
       "    .dataframe tbody tr th:only-of-type {\n",
       "        vertical-align: middle;\n",
       "    }\n",
       "\n",
       "    .dataframe tbody tr th {\n",
       "        vertical-align: top;\n",
       "    }\n",
       "\n",
       "    .dataframe thead th {\n",
       "        text-align: right;\n",
       "    }\n",
       "</style>\n",
       "<table border=\"1\" class=\"dataframe\">\n",
       "  <thead>\n",
       "    <tr style=\"text-align: right;\">\n",
       "      <th></th>\n",
       "      <th>year</th>\n",
       "      <th>rain_max</th>\n",
       "      <th>temp_avg</th>\n",
       "      <th>temp_max</th>\n",
       "      <th>temp_min</th>\n",
       "      <th>hum_max</th>\n",
       "      <th>hum_min</th>\n",
       "      <th>wind_max</th>\n",
       "      <th>wind_avg</th>\n",
       "    </tr>\n",
       "  </thead>\n",
       "  <tbody>\n",
       "    <tr>\n",
       "      <th>count</th>\n",
       "      <td>18.000000</td>\n",
       "      <td>18.000000</td>\n",
       "      <td>18.000000</td>\n",
       "      <td>18.000000</td>\n",
       "      <td>18.000000</td>\n",
       "      <td>18.000000</td>\n",
       "      <td>18.000000</td>\n",
       "      <td>18.000000</td>\n",
       "      <td>18.000000</td>\n",
       "    </tr>\n",
       "    <tr>\n",
       "      <th>mean</th>\n",
       "      <td>2014.500000</td>\n",
       "      <td>3.175087</td>\n",
       "      <td>21.285831</td>\n",
       "      <td>28.198312</td>\n",
       "      <td>16.458525</td>\n",
       "      <td>96.502990</td>\n",
       "      <td>48.528039</td>\n",
       "      <td>8.469412</td>\n",
       "      <td>1.286295</td>\n",
       "    </tr>\n",
       "    <tr>\n",
       "      <th>std</th>\n",
       "      <td>5.338539</td>\n",
       "      <td>1.190658</td>\n",
       "      <td>0.549483</td>\n",
       "      <td>0.564714</td>\n",
       "      <td>0.891070</td>\n",
       "      <td>2.345644</td>\n",
       "      <td>3.010135</td>\n",
       "      <td>0.611327</td>\n",
       "      <td>0.399773</td>\n",
       "    </tr>\n",
       "    <tr>\n",
       "      <th>min</th>\n",
       "      <td>2006.000000</td>\n",
       "      <td>1.617582</td>\n",
       "      <td>20.682400</td>\n",
       "      <td>27.000000</td>\n",
       "      <td>15.268681</td>\n",
       "      <td>87.837500</td>\n",
       "      <td>44.648352</td>\n",
       "      <td>7.484426</td>\n",
       "      <td>0.812202</td>\n",
       "    </tr>\n",
       "    <tr>\n",
       "      <th>25%</th>\n",
       "      <td>2010.250000</td>\n",
       "      <td>2.342250</td>\n",
       "      <td>20.975602</td>\n",
       "      <td>27.811486</td>\n",
       "      <td>16.041470</td>\n",
       "      <td>96.079483</td>\n",
       "      <td>47.154325</td>\n",
       "      <td>7.906319</td>\n",
       "      <td>0.911424</td>\n",
       "    </tr>\n",
       "    <tr>\n",
       "      <th>50%</th>\n",
       "      <td>2014.500000</td>\n",
       "      <td>2.978022</td>\n",
       "      <td>21.126061</td>\n",
       "      <td>28.406027</td>\n",
       "      <td>16.319722</td>\n",
       "      <td>97.089241</td>\n",
       "      <td>48.450172</td>\n",
       "      <td>8.489286</td>\n",
       "      <td>1.216155</td>\n",
       "    </tr>\n",
       "    <tr>\n",
       "      <th>75%</th>\n",
       "      <td>2018.750000</td>\n",
       "      <td>3.718815</td>\n",
       "      <td>21.434377</td>\n",
       "      <td>28.614973</td>\n",
       "      <td>16.459066</td>\n",
       "      <td>97.553044</td>\n",
       "      <td>49.310440</td>\n",
       "      <td>8.946889</td>\n",
       "      <td>1.539160</td>\n",
       "    </tr>\n",
       "    <tr>\n",
       "      <th>max</th>\n",
       "      <td>2023.000000</td>\n",
       "      <td>6.670968</td>\n",
       "      <td>23.040999</td>\n",
       "      <td>29.010989</td>\n",
       "      <td>18.753125</td>\n",
       "      <td>98.500000</td>\n",
       "      <td>57.806452</td>\n",
       "      <td>9.706452</td>\n",
       "      <td>2.075207</td>\n",
       "    </tr>\n",
       "  </tbody>\n",
       "</table>\n",
       "</div>"
      ],
      "text/plain": [
       "              year   rain_max   temp_avg   temp_max   temp_min    hum_max  \\\n",
       "count    18.000000  18.000000  18.000000  18.000000  18.000000  18.000000   \n",
       "mean   2014.500000   3.175087  21.285831  28.198312  16.458525  96.502990   \n",
       "std       5.338539   1.190658   0.549483   0.564714   0.891070   2.345644   \n",
       "min    2006.000000   1.617582  20.682400  27.000000  15.268681  87.837500   \n",
       "25%    2010.250000   2.342250  20.975602  27.811486  16.041470  96.079483   \n",
       "50%    2014.500000   2.978022  21.126061  28.406027  16.319722  97.089241   \n",
       "75%    2018.750000   3.718815  21.434377  28.614973  16.459066  97.553044   \n",
       "max    2023.000000   6.670968  23.040999  29.010989  18.753125  98.500000   \n",
       "\n",
       "         hum_min   wind_max   wind_avg  \n",
       "count  18.000000  18.000000  18.000000  \n",
       "mean   48.528039   8.469412   1.286295  \n",
       "std     3.010135   0.611327   0.399773  \n",
       "min    44.648352   7.484426   0.812202  \n",
       "25%    47.154325   7.906319   0.911424  \n",
       "50%    48.450172   8.489286   1.216155  \n",
       "75%    49.310440   8.946889   1.539160  \n",
       "max    57.806452   9.706452   2.075207  "
      ]
     },
     "execution_count": 7,
     "metadata": {},
     "output_type": "execute_result"
    }
   ],
   "source": [
    "# TODO: describe your numeric columns\n",
    "weather.describe()"
   ]
  },
  {
   "cell_type": "code",
   "execution_count": 8,
   "id": "ab0c8b1f",
   "metadata": {},
   "outputs": [
    {
     "name": "stdout",
     "output_type": "stream",
     "text": [
      "18\n"
     ]
    },
    {
     "data": {
      "text/html": [
       "<div>\n",
       "<style scoped>\n",
       "    .dataframe tbody tr th:only-of-type {\n",
       "        vertical-align: middle;\n",
       "    }\n",
       "\n",
       "    .dataframe tbody tr th {\n",
       "        vertical-align: top;\n",
       "    }\n",
       "\n",
       "    .dataframe thead th {\n",
       "        text-align: right;\n",
       "    }\n",
       "</style>\n",
       "<table border=\"1\" class=\"dataframe\">\n",
       "  <thead>\n",
       "    <tr style=\"text-align: right;\">\n",
       "      <th></th>\n",
       "      <th>year</th>\n",
       "      <th>rain_max</th>\n",
       "      <th>temp_avg</th>\n",
       "      <th>temp_max</th>\n",
       "      <th>temp_min</th>\n",
       "      <th>hum_max</th>\n",
       "      <th>hum_min</th>\n",
       "      <th>wind_max</th>\n",
       "      <th>wind_avg</th>\n",
       "      <th>subdivision</th>\n",
       "    </tr>\n",
       "  </thead>\n",
       "  <tbody>\n",
       "    <tr>\n",
       "      <th>0</th>\n",
       "      <td>False</td>\n",
       "      <td>False</td>\n",
       "      <td>False</td>\n",
       "      <td>False</td>\n",
       "      <td>False</td>\n",
       "      <td>False</td>\n",
       "      <td>False</td>\n",
       "      <td>False</td>\n",
       "      <td>False</td>\n",
       "      <td>False</td>\n",
       "    </tr>\n",
       "    <tr>\n",
       "      <th>1</th>\n",
       "      <td>False</td>\n",
       "      <td>False</td>\n",
       "      <td>False</td>\n",
       "      <td>False</td>\n",
       "      <td>False</td>\n",
       "      <td>False</td>\n",
       "      <td>False</td>\n",
       "      <td>False</td>\n",
       "      <td>False</td>\n",
       "      <td>False</td>\n",
       "    </tr>\n",
       "    <tr>\n",
       "      <th>2</th>\n",
       "      <td>False</td>\n",
       "      <td>False</td>\n",
       "      <td>False</td>\n",
       "      <td>False</td>\n",
       "      <td>False</td>\n",
       "      <td>False</td>\n",
       "      <td>False</td>\n",
       "      <td>False</td>\n",
       "      <td>False</td>\n",
       "      <td>False</td>\n",
       "    </tr>\n",
       "    <tr>\n",
       "      <th>3</th>\n",
       "      <td>False</td>\n",
       "      <td>False</td>\n",
       "      <td>False</td>\n",
       "      <td>False</td>\n",
       "      <td>False</td>\n",
       "      <td>False</td>\n",
       "      <td>False</td>\n",
       "      <td>False</td>\n",
       "      <td>False</td>\n",
       "      <td>False</td>\n",
       "    </tr>\n",
       "    <tr>\n",
       "      <th>4</th>\n",
       "      <td>False</td>\n",
       "      <td>False</td>\n",
       "      <td>False</td>\n",
       "      <td>False</td>\n",
       "      <td>False</td>\n",
       "      <td>False</td>\n",
       "      <td>False</td>\n",
       "      <td>False</td>\n",
       "      <td>False</td>\n",
       "      <td>False</td>\n",
       "    </tr>\n",
       "    <tr>\n",
       "      <th>5</th>\n",
       "      <td>False</td>\n",
       "      <td>False</td>\n",
       "      <td>False</td>\n",
       "      <td>False</td>\n",
       "      <td>False</td>\n",
       "      <td>False</td>\n",
       "      <td>False</td>\n",
       "      <td>False</td>\n",
       "      <td>False</td>\n",
       "      <td>False</td>\n",
       "    </tr>\n",
       "    <tr>\n",
       "      <th>6</th>\n",
       "      <td>False</td>\n",
       "      <td>False</td>\n",
       "      <td>False</td>\n",
       "      <td>False</td>\n",
       "      <td>False</td>\n",
       "      <td>False</td>\n",
       "      <td>False</td>\n",
       "      <td>False</td>\n",
       "      <td>False</td>\n",
       "      <td>False</td>\n",
       "    </tr>\n",
       "    <tr>\n",
       "      <th>7</th>\n",
       "      <td>False</td>\n",
       "      <td>False</td>\n",
       "      <td>False</td>\n",
       "      <td>False</td>\n",
       "      <td>False</td>\n",
       "      <td>False</td>\n",
       "      <td>False</td>\n",
       "      <td>False</td>\n",
       "      <td>False</td>\n",
       "      <td>False</td>\n",
       "    </tr>\n",
       "    <tr>\n",
       "      <th>8</th>\n",
       "      <td>False</td>\n",
       "      <td>False</td>\n",
       "      <td>False</td>\n",
       "      <td>False</td>\n",
       "      <td>False</td>\n",
       "      <td>False</td>\n",
       "      <td>False</td>\n",
       "      <td>False</td>\n",
       "      <td>False</td>\n",
       "      <td>False</td>\n",
       "    </tr>\n",
       "    <tr>\n",
       "      <th>9</th>\n",
       "      <td>False</td>\n",
       "      <td>False</td>\n",
       "      <td>False</td>\n",
       "      <td>False</td>\n",
       "      <td>False</td>\n",
       "      <td>False</td>\n",
       "      <td>False</td>\n",
       "      <td>False</td>\n",
       "      <td>False</td>\n",
       "      <td>False</td>\n",
       "    </tr>\n",
       "    <tr>\n",
       "      <th>10</th>\n",
       "      <td>False</td>\n",
       "      <td>False</td>\n",
       "      <td>False</td>\n",
       "      <td>False</td>\n",
       "      <td>False</td>\n",
       "      <td>False</td>\n",
       "      <td>False</td>\n",
       "      <td>False</td>\n",
       "      <td>False</td>\n",
       "      <td>False</td>\n",
       "    </tr>\n",
       "    <tr>\n",
       "      <th>11</th>\n",
       "      <td>False</td>\n",
       "      <td>False</td>\n",
       "      <td>False</td>\n",
       "      <td>False</td>\n",
       "      <td>False</td>\n",
       "      <td>False</td>\n",
       "      <td>False</td>\n",
       "      <td>False</td>\n",
       "      <td>False</td>\n",
       "      <td>False</td>\n",
       "    </tr>\n",
       "    <tr>\n",
       "      <th>12</th>\n",
       "      <td>False</td>\n",
       "      <td>False</td>\n",
       "      <td>False</td>\n",
       "      <td>False</td>\n",
       "      <td>False</td>\n",
       "      <td>False</td>\n",
       "      <td>False</td>\n",
       "      <td>False</td>\n",
       "      <td>False</td>\n",
       "      <td>False</td>\n",
       "    </tr>\n",
       "    <tr>\n",
       "      <th>13</th>\n",
       "      <td>False</td>\n",
       "      <td>False</td>\n",
       "      <td>False</td>\n",
       "      <td>False</td>\n",
       "      <td>False</td>\n",
       "      <td>False</td>\n",
       "      <td>False</td>\n",
       "      <td>False</td>\n",
       "      <td>False</td>\n",
       "      <td>False</td>\n",
       "    </tr>\n",
       "    <tr>\n",
       "      <th>14</th>\n",
       "      <td>False</td>\n",
       "      <td>False</td>\n",
       "      <td>False</td>\n",
       "      <td>False</td>\n",
       "      <td>False</td>\n",
       "      <td>False</td>\n",
       "      <td>False</td>\n",
       "      <td>False</td>\n",
       "      <td>False</td>\n",
       "      <td>False</td>\n",
       "    </tr>\n",
       "    <tr>\n",
       "      <th>15</th>\n",
       "      <td>False</td>\n",
       "      <td>False</td>\n",
       "      <td>False</td>\n",
       "      <td>False</td>\n",
       "      <td>False</td>\n",
       "      <td>False</td>\n",
       "      <td>False</td>\n",
       "      <td>False</td>\n",
       "      <td>False</td>\n",
       "      <td>False</td>\n",
       "    </tr>\n",
       "    <tr>\n",
       "      <th>16</th>\n",
       "      <td>False</td>\n",
       "      <td>False</td>\n",
       "      <td>False</td>\n",
       "      <td>False</td>\n",
       "      <td>False</td>\n",
       "      <td>False</td>\n",
       "      <td>False</td>\n",
       "      <td>False</td>\n",
       "      <td>False</td>\n",
       "      <td>False</td>\n",
       "    </tr>\n",
       "    <tr>\n",
       "      <th>17</th>\n",
       "      <td>False</td>\n",
       "      <td>False</td>\n",
       "      <td>False</td>\n",
       "      <td>False</td>\n",
       "      <td>False</td>\n",
       "      <td>False</td>\n",
       "      <td>False</td>\n",
       "      <td>False</td>\n",
       "      <td>False</td>\n",
       "      <td>False</td>\n",
       "    </tr>\n",
       "  </tbody>\n",
       "</table>\n",
       "</div>"
      ],
      "text/plain": [
       "     year  rain_max  temp_avg  temp_max  temp_min  hum_max  hum_min  wind_max  \\\n",
       "0   False     False     False     False     False    False    False     False   \n",
       "1   False     False     False     False     False    False    False     False   \n",
       "2   False     False     False     False     False    False    False     False   \n",
       "3   False     False     False     False     False    False    False     False   \n",
       "4   False     False     False     False     False    False    False     False   \n",
       "5   False     False     False     False     False    False    False     False   \n",
       "6   False     False     False     False     False    False    False     False   \n",
       "7   False     False     False     False     False    False    False     False   \n",
       "8   False     False     False     False     False    False    False     False   \n",
       "9   False     False     False     False     False    False    False     False   \n",
       "10  False     False     False     False     False    False    False     False   \n",
       "11  False     False     False     False     False    False    False     False   \n",
       "12  False     False     False     False     False    False    False     False   \n",
       "13  False     False     False     False     False    False    False     False   \n",
       "14  False     False     False     False     False    False    False     False   \n",
       "15  False     False     False     False     False    False    False     False   \n",
       "16  False     False     False     False     False    False    False     False   \n",
       "17  False     False     False     False     False    False    False     False   \n",
       "\n",
       "    wind_avg  subdivision  \n",
       "0      False        False  \n",
       "1      False        False  \n",
       "2      False        False  \n",
       "3      False        False  \n",
       "4      False        False  \n",
       "5      False        False  \n",
       "6      False        False  \n",
       "7      False        False  \n",
       "8      False        False  \n",
       "9      False        False  \n",
       "10     False        False  \n",
       "11     False        False  \n",
       "12     False        False  \n",
       "13     False        False  \n",
       "14     False        False  \n",
       "15     False        False  \n",
       "16     False        False  \n",
       "17     False        False  "
      ]
     },
     "execution_count": 8,
     "metadata": {},
     "output_type": "execute_result"
    }
   ],
   "source": [
    "# TODO: display the null values in your dataframe\n",
    "print(len(weather))\n",
    "weather.isna()"
   ]
  },
  {
   "cell_type": "code",
   "execution_count": 9,
   "id": "22fd1940",
   "metadata": {},
   "outputs": [],
   "source": [
    "# TODO: BEGIN YOUR EDA!"
   ]
  },
  {
   "cell_type": "markdown",
   "id": "a33e1db5",
   "metadata": {},
   "source": [
    "## Reflections\n",
    "\n",
    "Answer each question based on the visualizations that you've generated.\n",
    "\n",
    "Remember, you must justify your answers with proof! Look back to W6D3 for more context."
   ]
  },
  {
   "cell_type": "markdown",
   "id": "fe46532b",
   "metadata": {},
   "source": [
    "How is average temperature changing across the years for Minas Gerais? Is this increasing or decreasing?\n",
    "\n",
    "Answer here:\n",
    "\n",
    "The city of Minas Gerais experienced a decreasing drop in average weather temperature."
   ]
  },
  {
   "cell_type": "code",
   "execution_count": 24,
   "id": "866db0b9",
   "metadata": {},
   "outputs": [
    {
     "data": {
      "text/plain": [
       "Text(0.5, 1.0, 'Minas Gerais ave., temperature over time')"
      ]
     },
     "execution_count": 24,
     "metadata": {},
     "output_type": "execute_result"
    },
    {
     "data": {
      "image/png": "[encoded data removed]",
      "text/plain": [
       "<Figure size 640x480 with 1 Axes>"
      ]
     },
     "metadata": {},
     "output_type": "display_data"
    }
   ],
   "source": [
    "weather.set_index('year')['temp_avg'].plot()\n",
    "plt.title(\"Minas Gerais ave., temperature over time\")"
   ]
  },
  {
   "cell_type": "markdown",
   "id": "ccd4f1e8",
   "metadata": {},
   "source": [
    "How is minimum humidity changing across the years for Minas Gerais? Is this increasing or decreasing?\n",
    "\n",
    "Answer here:\n",
    "\n",
    "We've seen a steady a plateaue after experiencing a decrease in minimum humidity. "
   ]
  },
  {
   "cell_type": "code",
   "execution_count": 21,
   "id": "358c90f5",
   "metadata": {},
   "outputs": [
    {
     "data": {
      "text/plain": [
       "Text(0.5, 1.0, 'Minas Gerais minimum humidity over time')"
      ]
     },
     "execution_count": 21,
     "metadata": {},
     "output_type": "execute_result"
    },
    {
     "data": {
      "image/png": "[encoded data removed]",
      "text/plain": [
       "<Figure size 640x480 with 1 Axes>"
      ]
     },
     "metadata": {},
     "output_type": "display_data"
    }
   ],
   "source": [
    "weather.set_index('year')['hum_min'].plot()\n",
    "plt.title(\"Minas Gerais minimum humidity over time\")"
   ]
  },
  {
   "cell_type": "code",
   "execution_count": 23,
   "id": "e7654a56",
   "metadata": {},
   "outputs": [],
   "source": [
    "#Decreasing "
   ]
  },
  {
   "cell_type": "markdown",
   "id": "0b500aa4",
   "metadata": {},
   "source": [
    "How is average wind speed changing across the years for Minas Gerais? Is this increasing or decreasing?\n",
    "\n",
    "Answer here:\n",
    "\n",
    "The average wind speed has been decreasing overtime "
   ]
  },
  {
   "cell_type": "code",
   "execution_count": 22,
   "id": "93312bec",
   "metadata": {},
   "outputs": [
    {
     "data": {
      "text/plain": [
       "Text(0.5, 1.0, ' Minas Gerais ave., wind speed over time ')"
      ]
     },
     "execution_count": 22,
     "metadata": {},
     "output_type": "execute_result"
    },
    {
     "data": {
      "image/png": "[encoded data removed]",
      "text/plain": [
       "<Figure size 640x480 with 1 Axes>"
      ]
     },
     "metadata": {},
     "output_type": "display_data"
    }
   ],
   "source": [
    "weather.set_index('year')['wind_avg'].plot()\n",
    "plt.title(\" Minas Gerais ave., wind speed over time \")"
   ]
  },
  {
   "cell_type": "markdown",
   "id": "359afc2e",
   "metadata": {},
   "source": [
    "Which year had the highest maximum record rainfall?\n",
    "\n",
    "Answer here:\n",
    "\n",
    "maximum rain recorder was prior to the mid point of 2007, where it then dropped significantly"
   ]
  },
  {
   "cell_type": "code",
   "execution_count": 17,
   "id": "4ca3343b",
   "metadata": {},
   "outputs": [
    {
     "data": {
      "text/plain": [
       "Text(0.5, 1.0, 'Maximum recorded rainfall')"
      ]
     },
     "execution_count": 17,
     "metadata": {},
     "output_type": "execute_result"
    },
    {
     "data": {
      "image/png": "[encoded data removed]",
      "text/plain": [
       "<Figure size 640x480 with 1 Axes>"
      ]
     },
     "metadata": {},
     "output_type": "display_data"
    }
   ],
   "source": [
    "weather.set_index('year')['rain_max'].plot()\n",
    "plt.title(\"Maximum recorded rainfall\")"
   ]
  },
  {
   "cell_type": "markdown",
   "id": "be3dab9c",
   "metadata": {},
   "source": [
    "What is the relationship between max rain and max humidity? How *strong* is this relationship? Use pearson's correlation coefficient.\n",
    "\n",
    "Answer here:\n",
    "\n",
    "Using pearson's correlation coefficient, there doesnt seem to be a strong correlation. "
   ]
  },
  {
   "cell_type": "code",
   "execution_count": null,
   "id": "611a7286",
   "metadata": {},
   "outputs": [
    {
     "name": "stdout",
     "output_type": "stream",
     "text": [
      "0.4057821680144417\n"
     ]
    }
   ],
   "source": [
    "#weather[[\"rain_max\", \"hum_max\"]].corr()\n",
    "x = weather['rain_max']\n",
    "y = weather['hum_max']\n",
    "correlation_matrix = np.corrcoef(x, y)[ 0,1]\n",
    "print(correlation_matrix)"
   ]
  },
  {
   "cell_type": "markdown",
   "id": "ee6ea06a",
   "metadata": {},
   "source": [
    "What is the relationship between average wind speed and average temperature? How *strong* is this relationship? Use pearson's correlation coefficient.\n",
    "\n",
    "Answer here:\n",
    "\n",
    "likewise here, after using pearson's correlation coefficient, there doesnt seem to be a strong correlation. "
   ]
  },
  {
   "cell_type": "code",
   "execution_count": 38,
   "id": "e89382b0",
   "metadata": {},
   "outputs": [
    {
     "name": "stdout",
     "output_type": "stream",
     "text": [
      "0.4765294973950927\n"
     ]
    }
   ],
   "source": [
    "# df[[\"** house age**\", \"** distance_to_mrt\"]].corr()\n",
    "x = weather['wind_avg']\n",
    "y = weather['temp_avg']\n",
    "correlation_matrix = np.corrcoef(x, y)[ 0,1]\n",
    "print(correlation_matrix)"
   ]
  }
 ],
 "metadata": {
  "kernelspec": {
   "display_name": "ds",
   "language": "python",
   "name": "python3"
  },
  "language_info": {
   "codemirror_mode": {
    "name": "ipython",
    "version": 3
   },
   "file_extension": ".py",
   "mimetype": "text/x-python",
   "name": "python",
   "nbconvert_exporter": "python",
   "pygments_lexer": "ipython3",
   "version": "3.12.9"
  }
 },
 "nbformat": 4,
 "nbformat_minor": 5
}
